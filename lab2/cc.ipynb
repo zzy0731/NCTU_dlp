{
 "cells": [
  {
   "cell_type": "code",
   "execution_count": null,
   "metadata": {},
   "outputs": [],
   "source": [
    "import numpy as np\n",
    "import matplotlib.pyplot as plt\n",
    "import torch\n",
    "import torch.nn as nn\n",
    "from dataloader import read_bci_data\n",
    "from nn import EEGNet, DeepConvNet\n",
    "\n",
    "device = torch.device(\"cuda:0\" if torch.cuda.is_available() else \"cpu\")\n",
    "%load_ext autoreload\n",
    "%autoreload 2\n",
    "\n",
    "print(device)"
   ]
  },
  {
   "cell_type": "code",
   "execution_count": null,
   "metadata": {},
   "outputs": [],
   "source": [
    "train_data, train_label, test_data, test_label = read_bci_data()"
   ]
  },
  {
   "cell_type": "code",
   "execution_count": null,
   "metadata": {},
   "outputs": [],
   "source": [
    "train_sets = []\n",
    "for i in range(len(train_data)):\n",
    "   train_sets.append([train_data[i], train_label[i]])\n",
    "\n",
    "train = torch.utils.data.DataLoader(train_sets, batch_size=128)"
   ]
  },
  {
   "cell_type": "markdown",
   "metadata": {},
   "source": [
    "## EEGNet"
   ]
  },
  {
   "cell_type": "markdown",
   "metadata": {},
   "source": [
    "ELU"
   ]
  },
  {
   "cell_type": "code",
   "execution_count": null,
   "metadata": {},
   "outputs": [],
   "source": [
    "epochs = 300\n",
    "lr = 1.5e-3\n",
    "\n",
    "EEG = EEGNet('ELU') #ReLU LeakyReLU ELU\n",
    "optimizer = torch.optim.Adam(EEG.parameters(), lr=lr)\n",
    "criterion = nn.CrossEntropyLoss()\n",
    "\n",
    "# EEG.load_state_dict(torch.load(\"EEG_ELU.pt\"))\n",
    "print(EEG)"
   ]
  },
  {
   "cell_type": "code",
   "execution_count": null,
   "metadata": {},
   "outputs": [],
   "source": [
    "EEG = EEG.to(device, torch.double)\n",
    "loss_list_ELU = []\n",
    "acc_list_ELU = []\n",
    "test_acc_list_ELU = []\n",
    "for epoch in range(epochs):\n",
    "    torch.cuda.empty_cache()\n",
    "    for batch_idx, (data, target) in enumerate(train):\n",
    "        data, target = data.to(device), target.to(device)\n",
    "\n",
    "        optimizer.zero_grad()\n",
    "        output = EEG(data)\n",
    "        loss = criterion(output, target.type(torch.cuda.LongTensor))\n",
    "        loss.backward()\n",
    "        optimizer.step()\n",
    "\n",
    "        # if batch_idx % 3 == 0:\n",
    "        loss_list_ELU.append(loss.item())\n",
    "        batch = batch_idx * len(data)\n",
    "        data_count = len(train.dataset)\n",
    "        _, preds = torch.max(output, 1)\n",
    "        acc = (preds == target.clone().detach()).sum() / float(target.shape[0])\n",
    "        acc_list_ELU.append(acc)\n",
    "\n",
    "        test = EEG(torch.tensor(test_data).to(device))\n",
    "        _, preds = torch.max(test, 1)\n",
    "        test_acc_list_ELU.append((preds == torch.tensor(test_label).to(device)).sum() / float(test_label.shape[0]))\n",
    "        \n",
    "        if batch_idx % 5 == 0:\n",
    "            print(f'Epoch {epoch}: [{batch:5d} / {data_count}]' + f'  Loss: {loss.item():.6f}'+f'  Accuracy: {acc*100:.3f}%'+ f'  Test accuracy: {test_acc_list_ELU[-1]*100:.3f}%')\n"
   ]
  },
  {
   "cell_type": "code",
   "execution_count": null,
   "metadata": {},
   "outputs": [],
   "source": [
    "torch.save(EEG.state_dict(), \"EEG_ELU.pt\")\n",
    "print('Module weights saved.')"
   ]
  },
  {
   "cell_type": "markdown",
   "metadata": {},
   "source": [
    "LeakyReLU"
   ]
  },
  {
   "cell_type": "code",
   "execution_count": null,
   "metadata": {},
   "outputs": [],
   "source": [
    "epochs = 300\n",
    "lr = 1.5e-3\n",
    "\n",
    "EEG = EEGNet('LeakyReLU') #ReLU LeakyReLU ELU\n",
    "optimizer = torch.optim.Adam(EEG.parameters(), lr=lr)\n",
    "criterion = nn.CrossEntropyLoss()\n",
    "\n",
    "# EEG.load_state_dict(torch.load(\"EEG_LeakyReLU.pt\"))\n",
    "print(EEG)"
   ]
  },
  {
   "cell_type": "code",
   "execution_count": null,
   "metadata": {},
   "outputs": [],
   "source": [
    "EEG = EEG.to(device, torch.double)\n",
    "loss_list_LeakyReLU = []\n",
    "acc_list_LeakyReLU = []\n",
    "test_acc_list_LeakyReLU = []\n",
    "for epoch in range(epochs):\n",
    "    for batch_idx, (data, target) in enumerate(train):\n",
    "        data, target = data.to(device), target.to(device)\n",
    "\n",
    "        optimizer.zero_grad()\n",
    "        output = EEG(data)\n",
    "        loss = criterion(output, target.type(torch.cuda.LongTensor))\n",
    "        loss.backward()\n",
    "        optimizer.step()\n",
    "\n",
    "        # if batch_idx % 3 == 0:\n",
    "        loss_list_LeakyReLU.append(loss.item())\n",
    "        batch = batch_idx * len(data)\n",
    "        data_count = len(train.dataset)\n",
    "        _, preds = torch.max(output, 1)\n",
    "        acc = (preds == target.clone().detach()).sum() / float(target.shape[0])\n",
    "        acc_list_LeakyReLU.append(acc)\n",
    "\n",
    "        test = EEG(torch.tensor(test_data).to(device))\n",
    "        _, preds = torch.max(test, 1)\n",
    "        test_acc_list_LeakyReLU.append((preds == torch.tensor(test_label).to(device)).sum() / float(test_label.shape[0]))\n",
    "        \n",
    "        print(f'Epoch {epoch}: [{batch:5d} / {data_count}]' + f'  Loss: {loss.item():.6f}'+f'  Accuracy: {acc*100:.3f}%'+ f'  Test accuracy: {test_acc_list_LeakyReLU[-1]*100:.3f}%')\n"
   ]
  },
  {
   "cell_type": "code",
   "execution_count": null,
   "metadata": {},
   "outputs": [],
   "source": [
    "torch.save(EEG.state_dict(), \"EEG_LeakyReLU.pt\")\n",
    "print('Module weights saved.')"
   ]
  },
  {
   "cell_type": "markdown",
   "metadata": {},
   "source": [
    "ReLU"
   ]
  },
  {
   "cell_type": "code",
   "execution_count": null,
   "metadata": {},
   "outputs": [],
   "source": [
    "epochs = 300\n",
    "lr = 1.5e-3\n",
    "\n",
    "EEG = EEGNet('ReLU') #ReLU LeakyReLU ELU\n",
    "optimizer = torch.optim.Adam(EEG.parameters(), lr=lr)\n",
    "criterion = nn.CrossEntropyLoss()\n",
    "\n",
    "# EEG.load_state_dict(torch.load(\"EEG_ReLU.pt\"))\n",
    "print(EEG)"
   ]
  },
  {
   "cell_type": "code",
   "execution_count": null,
   "metadata": {},
   "outputs": [],
   "source": [
    "EEG = EEG.to(device, torch.double)\n",
    "loss_list_ReLU = []\n",
    "acc_list_ReLU = []\n",
    "test_acc_list_ReLU = []\n",
    "for epoch in range(epochs):\n",
    "    for batch_idx, (data, target) in enumerate(train):\n",
    "        data, target = data.to(device), target.to(device)\n",
    "\n",
    "        optimizer.zero_grad()\n",
    "        output = EEG(data)\n",
    "        loss = criterion(output, target.type(torch.cuda.LongTensor))\n",
    "        loss.backward()\n",
    "        optimizer.step()\n",
    "\n",
    "        # if batch_idx % 3 == 0:\n",
    "        loss_list_ReLU.append(loss.item())\n",
    "        batch = batch_idx * len(data)\n",
    "        data_count = len(train.dataset)\n",
    "        _, preds = torch.max(output, 1)\n",
    "        acc = (preds == target.clone().detach()).sum() / float(target.shape[0])\n",
    "        acc_list_ReLU.append(acc)\n",
    "\n",
    "        test = EEG(torch.tensor(test_data).to(device))\n",
    "        _, preds = torch.max(test, 1)\n",
    "        test_acc_list_ReLU.append((preds == torch.tensor(test_label).to(device)).sum() / float(test_label.shape[0]))\n",
    "        \n",
    "        print(f'Epoch {epoch}: [{batch:5d} / {data_count}]' + f'  Loss: {loss.item():.6f}'+f'  Accuracy: {acc*100:.3f}%'+ f'  Test accuracy: {test_acc_list_ReLU[-1]*100:.3f}%')\n"
   ]
  },
  {
   "cell_type": "code",
   "execution_count": null,
   "metadata": {},
   "outputs": [],
   "source": [
    "torch.save(EEG.state_dict(), \"EEG_ReLU.pt\")\n",
    "print('Module weights saved.')"
   ]
  },
  {
   "cell_type": "code",
   "execution_count": null,
   "metadata": {},
   "outputs": [],
   "source": [
    "acc_list_ELU_             = [tensor.item() for tensor in acc_list_ELU]\n",
    "test_acc_list_ELU_        = [tensor.item() for tensor in test_acc_list_ELU]\n",
    "acc_list_LeakyReLU_       = [tensor.item() for tensor in acc_list_LeakyReLU]\n",
    "test_acc_list_LeakyReLU_  = [tensor.item() for tensor in test_acc_list_LeakyReLU]\n",
    "acc_list_ReLU_            = [tensor.item() for tensor in acc_list_ReLU]\n",
    "test_acc_list_ReLU_       = [tensor.item() for tensor in test_acc_list_ReLU]\n",
    "\n",
    "with open(\"EEG_acc_list_ELU.txt\", \"w\") as file:\n",
    "    file.write(str(acc_list_ELU_))\n",
    "with open(\"EEG_test_acc_list_ELU.txt\", \"w\") as file:\n",
    "    file.write(str(test_acc_list_ELU_))\n",
    "\n",
    "with open(\"EEG_acc_list_LeakyReLU.txt\", \"w\") as file:\n",
    "    file.write(str(acc_list_LeakyReLU_))\n",
    "with open(\"EEG_test_acc_list_LeakyReLU.txt\", \"w\") as file:\n",
    "    file.write(str(test_acc_list_LeakyReLU_))\n",
    "\n",
    "with open(\"EEG_acc_list_ReLU.txt\", \"w\") as file:\n",
    "    file.write(str(acc_list_ReLU))\n",
    "with open(\"EEG_test_acc_list_ReLU.txt\", \"w\") as file:\n",
    "    file.write(str(test_acc_list_ReLU))"
   ]
  },
  {
   "cell_type": "code",
   "execution_count": null,
   "metadata": {},
   "outputs": [],
   "source": [
    "e = len(acc_list_ELU)\n",
    "# acc_list_ELU = acc_list_ELU[0:e]\n",
    "# test_acc_list_ELU = test_acc_list_ELU[0:e]\n",
    "# acc_list_LeakyReLU = acc_list_LeakyReLU[0:e]\n",
    "# test_acc_list_LeakyReLU = test_acc_list_LeakyReLU[0:e]\n",
    "# acc_list_ReLU = acc_list_ReLU[0:e]\n",
    "# test_acc_list_ReLU = test_acc_list_ReLU[0:e]\n",
    "\n",
    "count = [i for i in range(e)]\n",
    "\n",
    "# print(len(acc_list_ELU))\n",
    "# print(len(test_acc_list_ELU))\n",
    "\n",
    "# print(len(acc_list_LeakyReLU))\n",
    "# print(len(test_acc_list_LeakyReLU))\n",
    "\n",
    "# print(len(acc_list_ReLU))\n",
    "# print(len(test_acc_list_ReLU))\n",
    "\n",
    "plt.plot(count, acc_list_ELU,  label = \"acc_list_ELU\")\n",
    "plt.plot(count, test_acc_list_ELU,  label = \"test_acc_list_ELU\")\n",
    "plt.plot(count, acc_list_LeakyReLU,  label = \"acc_list_LeakyReLU\")\n",
    "plt.plot(count, test_acc_list_LeakyReLU,  label = \"test_acc_list_LeakyReLU\")\n",
    "plt.plot(count, acc_list_ReLU,  label = \"acc_list_ReLU\")\n",
    "plt.plot(count, test_acc_list_ReLU,  label = \"test_acc_list_ReLU\")\n",
    "plt.legend()\n",
    "plt.savefig('EEGnet.png', dpi=300)\n",
    "plt.show()"
   ]
  },
  {
   "cell_type": "markdown",
   "metadata": {},
   "source": [
    "## DeepConvNet"
   ]
  },
  {
   "cell_type": "markdown",
   "metadata": {},
   "source": [
    "ELU"
   ]
  },
  {
   "cell_type": "code",
   "execution_count": null,
   "metadata": {},
   "outputs": [],
   "source": [
    "epochs = 300\n",
    "lr = 1.5e-3\n",
    "\n",
    "DeepConv = DeepConvNet('ELU') #ReLU LeakyReLU ELU\n",
    "optimizer = torch.optim.Adam(DeepConv.parameters(), lr=lr)\n",
    "criterion = nn.CrossEntropyLoss()\n",
    "\n",
    "# DeepConv.load_state_dict(torch.load(\"DeepConv.pt\"))\n",
    "print(DeepConv)"
   ]
  },
  {
   "cell_type": "code",
   "execution_count": null,
   "metadata": {},
   "outputs": [],
   "source": [
    "DeepConv = DeepConv.to(device, torch.double)\n",
    "loss_list_ELU = []\n",
    "acc_list_ELU = []\n",
    "test_acc_list_ELU = []\n",
    "\n",
    "for epoch in range(epochs):\n",
    "    for batch_idx, (data, target) in enumerate(train):\n",
    "        torch.cuda.empty_cache()\n",
    "        data, target = data.to(device), target.to(device)\n",
    "        \n",
    "        optimizer.zero_grad()\n",
    "        output = DeepConv(data)\n",
    "        loss = criterion(output, target.type(torch.cuda.LongTensor))\n",
    "        loss.backward()\n",
    "        optimizer.step()\n",
    "\n",
    "        # if batch_idx % 3 == 0:\n",
    "        loss_list_ELU.append(loss.item())\n",
    "        batch = batch_idx * len(data)\n",
    "        data_count = len(train.dataset)\n",
    "        _, preds = torch.max(output, 1)\n",
    "        acc = (preds == target.clone().detach()).sum() / float(target.shape[0])\n",
    "        acc_list_ELU.append(acc)\n",
    "\n",
    "        test = DeepConv(torch.tensor(test_data).to(device))\n",
    "        _, preds = torch.max(test, 1)\n",
    "        test_acc_list_ELU.append((preds == torch.tensor(test_label).to(device)).sum() / float(test_label.shape[0]))\n",
    "        \n",
    "        if batch_idx % 5 == 0:\n",
    "            print(f'Epoch {epoch}: [{batch:5d} / {data_count}]' + f'  Loss: {loss.item():.6f}'+f'  Accuracy: {acc*100:.3f}%'+ f'  Test accuracy: {test_acc_list_ELU[-1]*100:.3f}%')"
   ]
  },
  {
   "cell_type": "code",
   "execution_count": null,
   "metadata": {},
   "outputs": [],
   "source": [
    "torch.save(DeepConv.state_dict(), \"DeepConv_ELU.pt\")\n",
    "print('Module weights saved.')"
   ]
  },
  {
   "cell_type": "markdown",
   "metadata": {},
   "source": [
    "LeakyReLU"
   ]
  },
  {
   "cell_type": "code",
   "execution_count": null,
   "metadata": {},
   "outputs": [],
   "source": [
    "epochs = 300\n",
    "lr = 1.5e-3\n",
    "\n",
    "DeepConv = DeepConvNet('LeakyReLU') #ReLU LeakyReLU ELU\n",
    "optimizer = torch.optim.Adam(DeepConv.parameters(), lr=lr)\n",
    "criterion = nn.CrossEntropyLoss()\n",
    "\n",
    "# DeepConv.load_state_dict(torch.load(\"DeepConv.pt\"))\n",
    "print(DeepConv)"
   ]
  },
  {
   "cell_type": "code",
   "execution_count": null,
   "metadata": {},
   "outputs": [],
   "source": [
    "DeepConv = DeepConv.to(device, torch.double)\n",
    "loss_list_LeakyReLU = []\n",
    "acc_list_LeakyReLU = []\n",
    "test_acc_list_LeakyReLU = []\n",
    "for epoch in range(epochs):\n",
    "    for batch_idx, (data, target) in enumerate(train):\n",
    "        data, target = data.to(device), target.to(device)\n",
    "\n",
    "        optimizer.zero_grad()\n",
    "        output = DeepConv(data)\n",
    "        loss = criterion(output, target.type(torch.cuda.LongTensor))\n",
    "        loss.backward()\n",
    "        optimizer.step()\n",
    "\n",
    "        # if batch_idx % 3 == 0:\n",
    "        loss_list_LeakyReLU.append(loss.item())\n",
    "        batch = batch_idx * len(data)\n",
    "        data_count = len(train.dataset)\n",
    "        _, preds = torch.max(output, 1)\n",
    "        acc = (preds == target.clone().detach()).sum() / float(target.shape[0])\n",
    "        acc_list_LeakyReLU.append(acc)\n",
    "\n",
    "        test = DeepConv(torch.tensor(test_data).to(device))\n",
    "        _, preds = torch.max(test, 1)\n",
    "        test_acc_list_LeakyReLU.append((preds == torch.tensor(test_label).to(device)).sum() / float(test_label.shape[0]))\n",
    "        \n",
    "        print(f'Epoch {epoch}: [{batch:5d} / {data_count}]' + f'  Loss: {loss.item():.6f}'+f'  Accuracy: {acc*100:.3f}%'+ f'  Test accuracy: {test_acc_list_LeakyReLU[-1]*100:.3f}%')\n"
   ]
  },
  {
   "cell_type": "code",
   "execution_count": null,
   "metadata": {},
   "outputs": [],
   "source": [
    "torch.save(DeepConv.state_dict(), \"DeepConv_LeakyReLU.pt\")\n",
    "print('Module weights saved.')"
   ]
  },
  {
   "cell_type": "markdown",
   "metadata": {},
   "source": [
    "ReLU"
   ]
  },
  {
   "cell_type": "code",
   "execution_count": null,
   "metadata": {},
   "outputs": [],
   "source": [
    "epochs = 300\n",
    "lr = 1.5e-3\n",
    "\n",
    "DeepConv = DeepConvNet('ReLU') #ReLU LeakyReLU ELU\n",
    "optimizer = torch.optim.Adam(EEG.parameters(), lr=lr)\n",
    "criterion = nn.CrossEntropyLoss()\n",
    "\n",
    "# EEG.load_state_dict(torch.load(\"EEG_ReLU.pt\"))\n",
    "print(EEG)"
   ]
  },
  {
   "cell_type": "code",
   "execution_count": null,
   "metadata": {},
   "outputs": [],
   "source": [
    "DeepConv = DeepConv.to(device, torch.double)\n",
    "loss_list_ReLU = []\n",
    "acc_list_ReLU = []\n",
    "test_acc_list_ReLU = []\n",
    "for epoch in range(epochs):\n",
    "    for batch_idx, (data, target) in enumerate(train):\n",
    "        data, target = data.to(device), target.to(device)\n",
    "\n",
    "        optimizer.zero_grad()\n",
    "        output = EEG(data)\n",
    "        loss = criterion(output, target.type(torch.cuda.LongTensor))\n",
    "        loss.backward()\n",
    "        optimizer.step()\n",
    "\n",
    "        # if batch_idx % 3 == 0:\n",
    "        loss_list_ReLU.append(loss.item())\n",
    "        batch = batch_idx * len(data)\n",
    "        data_count = len(train.dataset)\n",
    "        _, preds = torch.max(output, 1)\n",
    "        acc = (preds == target.clone().detach()).sum() / float(target.shape[0])\n",
    "        acc_list_ReLU.append(acc)\n",
    "\n",
    "        test = EEG(torch.tensor(test_data).to(device))\n",
    "        _, preds = torch.max(test, 1)\n",
    "        test_acc_list_ReLU.append((preds == torch.tensor(test_label).to(device)).sum() / float(test_label.shape[0]))\n",
    "        \n",
    "        print(f'Epoch {epoch}: [{batch:5d} / {data_count}]' + f'  Loss: {loss.item():.6f}'+f'  Accuracy: {acc*100:.3f}%'+ f'  Test accuracy: {test_acc_list_ReLU[-1]*100:.3f}%')\n"
   ]
  },
  {
   "cell_type": "code",
   "execution_count": null,
   "metadata": {},
   "outputs": [],
   "source": [
    "torch.save(DeepConv.state_dict(), \"DeepConv_ReLU.pt\")\n",
    "print('Module weights saved.')"
   ]
  },
  {
   "cell_type": "code",
   "execution_count": null,
   "metadata": {},
   "outputs": [],
   "source": [
    "acc_list_ELU_             = [tensor.item() for tensor in acc_list_ELU]\n",
    "test_acc_list_ELU_        = [tensor.item() for tensor in test_acc_list_ELU]\n",
    "acc_list_LeakyReLU_       = [tensor.item() for tensor in acc_list_LeakyReLU]\n",
    "test_acc_list_LeakyReLU_  = [tensor.item() for tensor in test_acc_list_LeakyReLU]\n",
    "acc_list_ReLU_            = [tensor.item() for tensor in acc_list_ReLU]\n",
    "test_acc_list_ReLU_       = [tensor.item() for tensor in test_acc_list_ReLU]\n",
    "\n",
    "with open(\"DeepConv_acc_list_ELU.txt\", \"w\") as file:\n",
    "    file.write(str(acc_list_ELU_))\n",
    "with open(\"DeepConv_test_acc_list_ELU.txt\", \"w\") as file:\n",
    "    file.write(str(test_acc_list_ELU_))\n",
    "\n",
    "with open(\"DeepConv_acc_list_LeakyReLU.txt\", \"w\") as file:\n",
    "    file.write(str(acc_list_LeakyReLU_))\n",
    "with open(\"DeepConv_test_acc_list_LeakyReLU.txt\", \"w\") as file:\n",
    "    file.write(str(test_acc_list_LeakyReLU_))\n",
    "\n",
    "with open(\"DeepConv_acc_list_ReLU.txt\", \"w\") as file:\n",
    "    file.write(str(acc_list_ReLU))\n",
    "with open(\"DeepConv_test_acc_list_ReLU.txt\", \"w\") as file:\n",
    "    file.write(str(test_acc_list_ReLU))"
   ]
  },
  {
   "cell_type": "code",
   "execution_count": null,
   "metadata": {},
   "outputs": [],
   "source": [
    "e = len(acc_list_ELU)\n",
    "# acc_list_ELU = acc_list_ELU[0:e]\n",
    "# test_acc_list_ELU = test_acc_list_ELU[0:e]\n",
    "# acc_list_LeakyReLU = acc_list_LeakyReLU[0:e]\n",
    "# test_acc_list_LeakyReLU = test_acc_list_LeakyReLU[0:e]\n",
    "# acc_list_ReLU = acc_list_ReLU[0:e]\n",
    "# test_acc_list_ReLU = test_acc_list_ReLU[0:e]\n",
    "\n",
    "count = [i for i in range(e)]\n",
    "\n",
    "# print(len(acc_list_ELU))\n",
    "# print(len(test_acc_list_ELU))\n",
    "\n",
    "# print(len(acc_list_LeakyReLU))\n",
    "# print(len(test_acc_list_LeakyReLU))\n",
    "\n",
    "# print(len(acc_list_ReLU))\n",
    "# print(len(test_acc_list_ReLU))\n",
    "\n",
    "plt.plot(count, acc_list_ELU,  label = \"acc_list_ELU\")\n",
    "plt.plot(count, test_acc_list_ELU,  label = \"test_acc_list_ELU\")\n",
    "plt.plot(count, acc_list_LeakyReLU,  label = \"acc_list_LeakyReLU\")\n",
    "plt.plot(count, test_acc_list_LeakyReLU,  label = \"test_acc_list_LeakyReLU\")\n",
    "plt.plot(count, acc_list_ReLU,  label = \"acc_list_ReLU\")\n",
    "plt.plot(count, test_acc_list_ReLU,  label = \"test_acc_list_ReLU\")\n",
    "plt.legend()\n",
    "plt.savefig('DeepConv.png', dpi=300)\n",
    "plt.show()"
   ]
  },
  {
   "cell_type": "code",
   "execution_count": null,
   "metadata": {},
   "outputs": [],
   "source": []
  }
 ],
 "metadata": {
  "kernelspec": {
   "display_name": "Python 3.10.5 ('pytorch')",
   "language": "python",
   "name": "python3"
  },
  "language_info": {
   "codemirror_mode": {
    "name": "ipython",
    "version": 3
   },
   "file_extension": ".py",
   "mimetype": "text/x-python",
   "name": "python",
   "nbconvert_exporter": "python",
   "pygments_lexer": "ipython3",
   "version": "3.10.5"
  },
  "vscode": {
   "interpreter": {
    "hash": "c48ae432b80262eaf36c924d0518eed67f57d04170203a02db74671d5e1e6410"
   }
  }
 },
 "nbformat": 4,
 "nbformat_minor": 4
}
