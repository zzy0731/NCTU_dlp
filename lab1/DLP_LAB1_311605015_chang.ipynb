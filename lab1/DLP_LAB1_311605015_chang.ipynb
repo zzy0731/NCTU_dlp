{
 "cells": [
  {
   "cell_type": "code",
   "execution_count": 1,
   "metadata": {},
   "outputs": [],
   "source": [
    "import numpy as np\n",
    "import matplotlib.pyplot as plt\n",
    "def generate_linear(n=100):\n",
    "    pts=np.random.uniform(0,1,(n,2))\n",
    "    inputs=[]\n",
    "    labels=[]\n",
    "    for pt in pts :\n",
    "        inputs.append([pt[0],pt[1]])\n",
    "        #distance=(pt[0]*pt[1])/1.414\n",
    "        if (pt[0]>pt[1]):\n",
    "            labels.append(0)\n",
    "        else:\n",
    "            labels.append(1)\n",
    "    return np.array(inputs),np.array(labels).reshape(n,1)\n",
    "def generate_xor_easy():\n",
    "    inputs=[]\n",
    "    labels=[]\n",
    "    for i in range (11):\n",
    "        inputs.append([0.1*i,0.1*i])\n",
    "        labels.append(0)\n",
    "        if 0.1*i ==0.5:\n",
    "            continue\n",
    "        inputs.append([0.1*i,1-0.1*i])\n",
    "        labels.append(1)\n",
    "    return np.array(inputs),np.array(labels).reshape(21,1)\n",
    "def show_result(x,y,pred_y):\n",
    "    plt.subplot(1,2,1)\n",
    "    plt.title('Ground truth',fontsize=18)\n",
    "    for i in range(x.shape[0]):\n",
    "        if y[i]==0:\n",
    "            plt.plot(x[i][0],x[i][1],'ro')\n",
    "        else :\n",
    "            plt.plot(x[i][0],x[i][1],'bo')\n",
    "    plt.subplot(1,2,2)\n",
    "    plt.title('predict result',fontsize=18)\n",
    "    for i in range(x.shape[0]):\n",
    "        if pred_y[i]==0:\n",
    "            plt.plot(x[i][0],x[i][1],'ro')\n",
    "        else :\n",
    "            plt.plot(x[i][0],x[i][1],'bo')\n",
    "    plt.show()\n",
    "def sigmoid(s, deriv=False):\n",
    "    if (deriv == True):\n",
    "        return s * (1 - s)\n",
    "    return 1/(1 + np.exp(-s))\n",
    "x1,y1=generate_linear()\n",
    "x2,y2=generate_xor_easy()\n",
    "\n"
   ]
  },
  {
   "cell_type": "markdown",
   "metadata": {},
   "source": [
    "創建類神經網路"
   ]
  },
  {
   "cell_type": "code",
   "execution_count": 2,
   "metadata": {},
   "outputs": [],
   "source": [
    "class NeuralNetwork(object):\n",
    "    def __init__(self,inputlayer=2,hiddenlayer1=2,hiddenlayer2=2,outputlayer=1,lr=0.01):\n",
    "        #parameter\n",
    "        self.inputlayer=inputlayer\n",
    "        self.hiddenlayer1=hiddenlayer1\n",
    "        self.hiddenlayer2=hiddenlayer2\n",
    "        self.outputlayer=1\n",
    "        #weight\n",
    "        self.w1=np.random.normal(size=(self.inputlayer,self.hiddenlayer1))#(2*2)\n",
    "        self.w2=np.random.normal(size=(self.hiddenlayer1,self.hiddenlayer2))#(2*2)\n",
    "        self.w3=np.random.normal(size=(self.hiddenlayer2,self.outputlayer))#(2*1)\n",
    "        self.lr=lr\n",
    "    def forward(self,x):\n",
    "        self.z=np.dot(x,self.w1)#(100,2)dot(2,2)=100,2\n",
    "        self.a=self.sigmoid(self.z) #through activation funtion\n",
    "        self.z2=np.dot(self.a,self.w2)#(100,2)dot(2,2)=100,2\n",
    "        self.a2=self.sigmoid(self.z2)\n",
    "        self.z3=np.dot(self.a2,self.w3)#100,2dot(2,1)=100,1個output\n",
    "        output=self.sigmoid(self.z3)\n",
    "        return output\n",
    "    def backward(self,x,y,output):#backward propagate through the network\n",
    "        self.output_error=-2*(y-output)#error in output derivative(yt-y)^2-> -2(yt-y)\n",
    "        self.output_delta=self.output_error*self.sigmoid(output,derive=True)\n",
    "\n",
    "        self.z3_error=self.output_delta.dot(self.w3.T)\n",
    "        self.z3_delta=self.z3_error*self.sigmoid(self.a2,derive=True)\n",
    "        \n",
    "        self.z2_error=self.z3_error.dot(self.w2.T)\n",
    "        self.z2_delta=self.z2_error*self.sigmoid(self.a,derive=True)\n",
    "        #更新網路參數\n",
    "        self.w1-=x.T.dot(self.z2_delta)*self.lr\n",
    "        self.w2-=self.a.T.dot(self.z3_delta)*self.lr\n",
    "        self.w3-=self.a2.T.dot(self.output_delta)*self.lr\n",
    "\n",
    "   \n",
    "\n",
    "    def train(self,x,y):\n",
    "        output=self.forward(x)\n",
    "        self.backward(x,y,output)\n",
    "\n",
    "    def sigmoid(self,s,derive=False):\n",
    "        if (derive==True):\n",
    "            return s*(1-s)\n",
    "        return 1/(1+np.exp(-s))\n",
    "    def getweight(self):\n",
    "        return self.w1,self.w2,self.w3\n"
   ]
  },
  {
   "cell_type": "code",
   "execution_count": 8,
   "metadata": {},
   "outputs": [
    {
     "name": "stdout",
     "output_type": "stream",
     "text": [
      "epoch: 0 loss:0.242360\n",
      "epoch: 5000 loss:0.001391\n",
      "epoch: 10000 loss:0.000498\n",
      "epoch: 15000 loss:0.000274\n",
      "epoch: 20000 loss:0.000181\n",
      "epoch: 25000 loss:0.000131\n",
      "epoch: 30000 loss:0.000102\n",
      "epoch: 35000 loss:0.000082\n",
      "epoch: 40000 loss:0.000068\n",
      "epoch: 45000 loss:0.000058\n",
      "epoch: 50000 loss:0.000050\n"
     ]
    },
    {
     "data": {
      "image/png": "[encoded data removed]",
      "text/plain": [
       "<Figure size 432x288 with 1 Axes>"
      ]
     },
     "metadata": {
      "needs_background": "light"
     },
     "output_type": "display_data"
    }
   ],
   "source": [
    "\n",
    "model=NeuralNetwork(hiddenlayer1=2,hiddenlayer2=2,lr=0.01)\n",
    "\n",
    "def train_and_plot_loss(epochs,model,x,y): #設定訓練過程\n",
    "    error_list=[]\n",
    "    for i in range(epochs):\n",
    "        model.train(x,y)\n",
    "        error_list.append(np.mean(np.square(y-model.forward(x))))\n",
    "        if (i%5000==0):\n",
    "            print('epoch:',i,'loss:%6f'%(np.mean(np.square(y-model.forward(x)))))\n",
    "    fig, ax = plt.subplots()\n",
    "    ax.plot(np.arange((len(error_list))),error_list)\n",
    "    plt.xlabel('epoch')\n",
    "    plt.ylabel('Loss(MSE)')\n",
    "    plt.show()\n",
    "\n",
    "train_and_plot_loss(50001,model,x1,y1)\n"
   ]
  },
  {
   "cell_type": "code",
   "execution_count": 10,
   "metadata": {},
   "outputs": [
    {
     "name": "stdout",
     "output_type": "stream",
     "text": [
      "準確率 100.0 %\n"
     ]
    },
    {
     "data": {
      "image/png": "[encoded data removed]",
      "text/plain": [
       "<Figure size 432x288 with 2 Axes>"
      ]
     },
     "metadata": {
      "needs_background": "light"
     },
     "output_type": "display_data"
    }
   ],
   "source": [
    "\n",
    "def classify(x,yin,model): #創建分類函式\n",
    "    w1,w2,w3=model.getweight()\n",
    "    ylabel=[]\n",
    "    z=np.dot(x,w1)#2dot(2,3)=3\n",
    "    a=sigmoid(z) #through activation funtion\n",
    "    z2=np.dot(a,w2)#3dot(3,2)=2\n",
    "    a2=sigmoid(z2)\n",
    "    z3=np.dot(a2,w3)#2dot(2,1)=1個output\n",
    "    output=sigmoid(z3)\n",
    "    for i in range (x.shape[0]):\n",
    "        if output[i]>0.5:\n",
    "            ylabel.append(1)\n",
    "        else :\n",
    "            ylabel.append(0)\n",
    "    ylabel=np.array(ylabel)\n",
    "    ylabel=(ylabel.reshape((x.shape[0],1)))\n",
    "    acc =len(ylabel[ylabel==yin])\n",
    "    print('準確率',acc/(x.shape[0])*100,'%')\n",
    "    return ylabel\n",
    "y_pred1=classify(x1,y1,model) \n",
    "show_result(x1,y1,y_pred1)      \n"
   ]
  },
  {
   "cell_type": "code",
   "execution_count": 16,
   "metadata": {},
   "outputs": [
    {
     "name": "stdout",
     "output_type": "stream",
     "text": [
      "epoch: 0 loss:0.345757\n",
      "epoch: 5000 loss:0.024561\n",
      "epoch: 10000 loss:0.002158\n",
      "epoch: 15000 loss:0.000835\n",
      "epoch: 20000 loss:0.000482\n",
      "epoch: 25000 loss:0.000329\n",
      "epoch: 30000 loss:0.000246\n",
      "epoch: 35000 loss:0.000195\n",
      "epoch: 40000 loss:0.000160\n",
      "epoch: 45000 loss:0.000136\n",
      "epoch: 50000 loss:0.000117\n"
     ]
    },
    {
     "data": {
      "image/png": "[encoded data removed]",
      "text/plain": [
       "<Figure size 432x288 with 1 Axes>"
      ]
     },
     "metadata": {
      "needs_background": "light"
     },
     "output_type": "display_data"
    }
   ],
   "source": [
    "modelx=NeuralNetwork(hiddenlayer1=4,hiddenlayer2=4,lr=0.01)\n",
    "train_and_plot_loss(50001,modelx,x2,y2)\n"
   ]
  },
  {
   "cell_type": "code",
   "execution_count": 17,
   "metadata": {},
   "outputs": [
    {
     "name": "stdout",
     "output_type": "stream",
     "text": [
      "準確率 100.0 %\n"
     ]
    },
    {
     "data": {
      "image/png": "[encoded data removed]",
      "text/plain": [
       "<Figure size 432x288 with 2 Axes>"
      ]
     },
     "metadata": {
      "needs_background": "light"
     },
     "output_type": "display_data"
    }
   ],
   "source": [
    "y_pred2=classify(x2,y2,modelx)\n",
    "show_result(x2,y2,y_pred2)\n"
   ]
  },
  {
   "cell_type": "markdown",
   "metadata": {},
   "source": [
    "創建沒有activation 之neuralnetwork"
   ]
  },
  {
   "cell_type": "code",
   "execution_count": 18,
   "metadata": {},
   "outputs": [],
   "source": [
    "class noactivenet(object):\n",
    "    def __init__(self,inputlayer=2,hiddenlayer1=2,hiddenlayer2=2,outputlayer=1,lr=0.01):\n",
    "        #parameter\n",
    "        self.inputlayer=inputlayer\n",
    "        self.hiddenlayer1=hiddenlayer1\n",
    "        self.hiddenlayer2=hiddenlayer2\n",
    "        self.outputlayer=1\n",
    "        #weight\n",
    "        self.w1=np.random.normal(size=(self.inputlayer,self.hiddenlayer1))#(2*2)\n",
    "        self.w2=np.random.normal(size=(self.hiddenlayer1,self.hiddenlayer2))#(2*2)\n",
    "        self.w3=np.random.normal(size=(self.hiddenlayer2,self.outputlayer))#(2*1)\n",
    "        self.lr=lr\n",
    "    def forward(self,x):\n",
    "        self.z=np.dot(x,self.w1)#(100,2)dot(2,2)=100,2\n",
    "        #self.a=self.sigmoid(self.z) #through activation funtion\n",
    "        self.z2=np.dot(self.z,self.w2)#(100,2)dot(2,2)=100,2\n",
    "        #self.a2=self.sigmoid(self.z2)\n",
    "        self.z3=np.dot(self.z2,self.w3)#100,2dot(2,1)=100,1個output\n",
    "        #output=self.sigmoid(self.z3)\n",
    "        output=self.z3\n",
    "        return output\n",
    "    def backward(self,x,y,output):#backward propagate through the network\n",
    "        self.output_error=-2*(y-output)#error in output derivative(yt-y)^2-> -2(yt-y)\n",
    "        #self.output_delta=self.output_error*self.sigmoid(output,derive=True)\n",
    "\n",
    "        self.z3_error=self.output_error.dot(self.w3.T)\n",
    "        #self.z3_delta=self.z3_error*self.sigmoid(self.a2,derive=True)\n",
    "        \n",
    "        self.z2_error=self.z3_error.dot(self.w2.T)\n",
    "        #self.z2_delta=self.z2_error*self.sigmoid(self.a,derive=True)\n",
    "\n",
    "        self.w1-=x.T.dot(self.z2_error)*self.lr\n",
    "        self.w2-=self.z.T.dot(self.z3_error)*self.lr\n",
    "        self.w3-=self.z3.T.dot(self.output_error)*self.lr\n",
    "    def train(self,x,y):\n",
    "        output=self.forward(x)\n",
    "        self.backward(x,y,output)\n",
    "\n",
    "    def sigmoid(self,s,derive=False):\n",
    "        if (derive==True):\n",
    "            return s*(1-s)\n",
    "        return 1/(1+np.exp(-s))\n",
    "    def getweight(self):\n",
    "        return self.w1,self.w2,self.w3"
   ]
  },
  {
   "cell_type": "code",
   "execution_count": 21,
   "metadata": {},
   "outputs": [
    {
     "name": "stdout",
     "output_type": "stream",
     "text": [
      "epoch: 0 loss:0.246115\n",
      "epoch: 5000 loss:0.021706\n",
      "epoch: 10000 loss:0.010518\n",
      "epoch: 15000 loss:0.006984\n",
      "epoch: 20000 loss:0.005043\n",
      "epoch: 25000 loss:0.003813\n",
      "epoch: 30000 loss:0.002986\n",
      "epoch: 35000 loss:0.002405\n",
      "epoch: 40000 loss:0.001983\n",
      "epoch: 45000 loss:0.001668\n"
     ]
    },
    {
     "data": {
      "image/png": "[encoded data removed]",
      "text/plain": [
       "<Figure size 432x288 with 1 Axes>"
      ]
     },
     "metadata": {
      "needs_background": "light"
     },
     "output_type": "display_data"
    }
   ],
   "source": [
    "noactivenet=NeuralNetwork(hiddenlayer1=2,hiddenlayer2=2,lr=0.001)\n",
    "\n",
    "train_and_plot_loss(50000,noactivenet,x1,y1)"
   ]
  },
  {
   "cell_type": "code",
   "execution_count": 23,
   "metadata": {},
   "outputs": [
    {
     "name": "stdout",
     "output_type": "stream",
     "text": [
      "準確率 100.0 %\n"
     ]
    },
    {
     "data": {
      "image/png": "[encoded data removed]",
      "text/plain": [
       "<Figure size 432x288 with 2 Axes>"
      ]
     },
     "metadata": {
      "needs_background": "light"
     },
     "output_type": "display_data"
    }
   ],
   "source": [
    "yprednon=classify(x1,y1,noactivenet)\n",
    "show_result(x1,y1,yprednon)"
   ]
  },
  {
   "cell_type": "markdown",
   "metadata": {},
   "source": [
    "創建不同activate function 之網路(以tanh為例)"
   ]
  },
  {
   "cell_type": "code",
   "execution_count": 31,
   "metadata": {},
   "outputs": [],
   "source": [
    "class tanhnet(object):\n",
    "    def __init__(self,inputlayer=2,hiddenlayer1=2,hiddenlayer2=2,outputlayer=1,lr=0.01):\n",
    "        #parameter\n",
    "        self.inputlayer=inputlayer\n",
    "        self.hiddenlayer1=hiddenlayer1\n",
    "        self.hiddenlayer2=hiddenlayer2\n",
    "        self.outputlayer=1\n",
    "        #weight\n",
    "        self.w1=np.random.normal(size=(self.inputlayer,self.hiddenlayer1))#(2*2)\n",
    "        self.w2=np.random.normal(size=(self.hiddenlayer1,self.hiddenlayer2))#(2*2)\n",
    "        self.w3=np.random.normal(size=(self.hiddenlayer2,self.outputlayer))#(2*1)\n",
    "        self.lr=lr\n",
    "    def forward(self,x):\n",
    "        self.z=np.dot(x,self.w1)#(100,2)dot(2,2)=100,2\n",
    "        self.a=self.tanh(self.z) #through activation funtion\n",
    "        self.z2=np.dot(self.a,self.w2)#(100,2)dot(2,2)=100,2\n",
    "        self.a2=self.tanh(self.z2)\n",
    "        self.z3=np.dot(self.a2,self.w3)#100,2dot(2,1)=100,1個output\n",
    "        output=self.tanh(self.z3)\n",
    "        return output\n",
    "    def backward(self,x,y,output):#backward propagate through the network\n",
    "        self.output_error=-2*(y-output)#error in output derivative(yt-y)^2-> -2(yt-y)\n",
    "        self.output_delta=self.output_error*self.tanh(output,derive=True)\n",
    "\n",
    "        self.z3_error=self.output_delta.dot(self.w3.T)\n",
    "        self.z3_delta=self.z3_error*self.tanh(self.a2,derive=True)\n",
    "        \n",
    "        self.z2_error=self.z3_error.dot(self.w2.T)\n",
    "        self.z2_delta=self.z2_error*self.tanh(self.a,derive=True)\n",
    "\n",
    "        self.w1-=x.T.dot(self.z2_delta)*self.lr\n",
    "        self.w2-=self.a.T.dot(self.z3_delta)*self.lr\n",
    "        self.w3-=self.a2.T.dot(self.output_delta)*self.lr\n",
    "\n",
    "   \n",
    "\n",
    "    def train(self,x,y):\n",
    "        output=self.forward(x)\n",
    "        self.backward(x,y,output)\n",
    "    def tanh(self,x,derive=False):\n",
    "        if (derive==True):\n",
    "            return 1.0 - x**2\n",
    "        else:\n",
    "            return np.tanh(x)\n",
    "\n",
    "    def sigmoid(self,s,derive=False):\n",
    "        if (derive==True):\n",
    "            return s*(1-s)\n",
    "        return 1/(1+np.exp(-s))\n",
    "    def getweight(self):\n",
    "        return self.w1,self.w2,self.w3\n"
   ]
  },
  {
   "cell_type": "code",
   "execution_count": 32,
   "metadata": {},
   "outputs": [
    {
     "name": "stdout",
     "output_type": "stream",
     "text": [
      "epoch: 0 loss:0.281527\n",
      "epoch: 5000 loss:0.004032\n",
      "epoch: 10000 loss:0.003336\n",
      "epoch: 15000 loss:0.002818\n",
      "epoch: 20000 loss:0.002276\n",
      "epoch: 25000 loss:0.001741\n",
      "epoch: 30000 loss:0.001384\n",
      "epoch: 35000 loss:0.001141\n",
      "epoch: 40000 loss:0.000968\n",
      "epoch: 45000 loss:0.000839\n"
     ]
    },
    {
     "data": {
      "image/png": "[encoded data removed]",
      "text/plain": [
       "<Figure size 432x288 with 1 Axes>"
      ]
     },
     "metadata": {
      "needs_background": "light"
     },
     "output_type": "display_data"
    }
   ],
   "source": [
    "tanhnet=tanhnet(hiddenlayer1=2,hiddenlayer2=2,lr=0.01)\n",
    "\n",
    "train_and_plot_loss(50000,tanhnet,x1,y1)"
   ]
  }
 ],
 "metadata": {
  "kernelspec": {
   "display_name": "Python 3.10.5 ('pytorch')",
   "language": "python",
   "name": "python3"
  },
  "language_info": {
   "codemirror_mode": {
    "name": "ipython",
    "version": 3
   },
   "file_extension": ".py",
   "mimetype": "text/x-python",
   "name": "python",
   "nbconvert_exporter": "python",
   "pygments_lexer": "ipython3",
   "version": "3.10.5"
  },
  "orig_nbformat": 4,
  "vscode": {
   "interpreter": {
    "hash": "c48ae432b80262eaf36c924d0518eed67f57d04170203a02db74671d5e1e6410"
   }
  }
 },
 "nbformat": 4,
 "nbformat_minor": 2
}
